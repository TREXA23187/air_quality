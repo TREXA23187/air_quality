{
 "cells": [
  {
   "cell_type": "markdown",
   "source": [
    "### 1. 合并India数据和对应的经纬度数据"
   ],
   "metadata": {
    "collapsed": false
   }
  },
  {
   "cell_type": "code",
   "execution_count": 84,
   "outputs": [
    {
     "data": {
      "text/plain": "  StationId        Date  PM2.5    PM10    NO    NO2    NOx    NH3    CO  \\\n0     AP001  2017-11-24  71.36  115.75  1.75  20.65  12.40  12.19  0.10   \n1     AP001  2017-11-25  81.40  124.50  1.44  20.50  12.08  10.72  0.12   \n2     AP001  2017-11-26  78.32  129.06  1.26  26.00  14.85  10.28  0.14   \n3     AP001  2017-11-27  88.76  135.32  6.60  30.85  21.77  12.91  0.11   \n4     AP001  2017-11-28  64.18  104.09  2.56  28.07  17.01  11.42  0.09   \n\n     SO2      O3  Benzene  Toluene  Xylene    AQI AQI_Bucket  \n0  10.76  109.26     0.17     5.92    0.10    NaN        NaN  \n1  15.24  127.09     0.20     6.50    0.06  184.0   Moderate  \n2  26.96  117.44     0.22     7.95    0.08  197.0   Moderate  \n3  33.59  111.81     0.29     7.63    0.12  198.0   Moderate  \n4  19.00  138.18     0.17     5.02    0.07  188.0   Moderate  ",
      "text/html": "<div>\n<style scoped>\n    .dataframe tbody tr th:only-of-type {\n        vertical-align: middle;\n    }\n\n    .dataframe tbody tr th {\n        vertical-align: top;\n    }\n\n    .dataframe thead th {\n        text-align: right;\n    }\n</style>\n<table border=\"1\" class=\"dataframe\">\n  <thead>\n    <tr style=\"text-align: right;\">\n      <th></th>\n      <th>StationId</th>\n      <th>Date</th>\n      <th>PM2.5</th>\n      <th>PM10</th>\n      <th>NO</th>\n      <th>NO2</th>\n      <th>NOx</th>\n      <th>NH3</th>\n      <th>CO</th>\n      <th>SO2</th>\n      <th>O3</th>\n      <th>Benzene</th>\n      <th>Toluene</th>\n      <th>Xylene</th>\n      <th>AQI</th>\n      <th>AQI_Bucket</th>\n    </tr>\n  </thead>\n  <tbody>\n    <tr>\n      <th>0</th>\n      <td>AP001</td>\n      <td>2017-11-24</td>\n      <td>71.36</td>\n      <td>115.75</td>\n      <td>1.75</td>\n      <td>20.65</td>\n      <td>12.40</td>\n      <td>12.19</td>\n      <td>0.10</td>\n      <td>10.76</td>\n      <td>109.26</td>\n      <td>0.17</td>\n      <td>5.92</td>\n      <td>0.10</td>\n      <td>NaN</td>\n      <td>NaN</td>\n    </tr>\n    <tr>\n      <th>1</th>\n      <td>AP001</td>\n      <td>2017-11-25</td>\n      <td>81.40</td>\n      <td>124.50</td>\n      <td>1.44</td>\n      <td>20.50</td>\n      <td>12.08</td>\n      <td>10.72</td>\n      <td>0.12</td>\n      <td>15.24</td>\n      <td>127.09</td>\n      <td>0.20</td>\n      <td>6.50</td>\n      <td>0.06</td>\n      <td>184.0</td>\n      <td>Moderate</td>\n    </tr>\n    <tr>\n      <th>2</th>\n      <td>AP001</td>\n      <td>2017-11-26</td>\n      <td>78.32</td>\n      <td>129.06</td>\n      <td>1.26</td>\n      <td>26.00</td>\n      <td>14.85</td>\n      <td>10.28</td>\n      <td>0.14</td>\n      <td>26.96</td>\n      <td>117.44</td>\n      <td>0.22</td>\n      <td>7.95</td>\n      <td>0.08</td>\n      <td>197.0</td>\n      <td>Moderate</td>\n    </tr>\n    <tr>\n      <th>3</th>\n      <td>AP001</td>\n      <td>2017-11-27</td>\n      <td>88.76</td>\n      <td>135.32</td>\n      <td>6.60</td>\n      <td>30.85</td>\n      <td>21.77</td>\n      <td>12.91</td>\n      <td>0.11</td>\n      <td>33.59</td>\n      <td>111.81</td>\n      <td>0.29</td>\n      <td>7.63</td>\n      <td>0.12</td>\n      <td>198.0</td>\n      <td>Moderate</td>\n    </tr>\n    <tr>\n      <th>4</th>\n      <td>AP001</td>\n      <td>2017-11-28</td>\n      <td>64.18</td>\n      <td>104.09</td>\n      <td>2.56</td>\n      <td>28.07</td>\n      <td>17.01</td>\n      <td>11.42</td>\n      <td>0.09</td>\n      <td>19.00</td>\n      <td>138.18</td>\n      <td>0.17</td>\n      <td>5.02</td>\n      <td>0.07</td>\n      <td>188.0</td>\n      <td>Moderate</td>\n    </tr>\n  </tbody>\n</table>\n</div>"
     },
     "execution_count": 84,
     "metadata": {},
     "output_type": "execute_result"
    }
   ],
   "source": [
    "import pandas as pd\n",
    "\n",
    "station_day_path = \"resource/station_day.csv\"\n",
    "station_day = pd.read_csv(station_day_path)\n",
    "station_day.head()"
   ],
   "metadata": {
    "collapsed": false
   }
  },
  {
   "cell_type": "code",
   "execution_count": 85,
   "outputs": [
    {
     "name": "stdout",
     "output_type": "stream",
     "text": [
      "Index(['Unnamed: 0', 'StationId', 'Date', 'PM2.5', 'PM10', 'NO', 'NO2', 'NOx',\n",
      "       'NH3', 'CO', 'SO2', 'O3', 'Benzene', 'Toluene', 'Xylene', 'AQI',\n",
      "       'AQI_Bucket'],\n",
      "      dtype='object')\n",
      "Index(['Unnamed: 0', 'StationId', 'StationName', 'City', 'State', 'Status',\n",
      "       'latitude', 'longitude'],\n",
      "      dtype='object')\n"
     ]
    }
   ],
   "source": [
    "# 将csv文件通过pandas读进来 此时读入的csv以DataFrame的形式来提供很多帮助\n",
    "india = pd.read_csv('output/station_day_impute.csv')\n",
    "geometry = pd.read_csv('resource/stations_with_geo.csv')\n",
    "\n",
    "# 分别查看india和geometry的列有哪些\n",
    "print(india.columns)\n",
    "print(geometry.columns)"
   ],
   "metadata": {
    "collapsed": false
   }
  },
  {
   "cell_type": "code",
   "execution_count": 86,
   "outputs": [
    {
     "data": {
      "text/plain": "  StationId        Date  PM2.5    PM10    NO    NO2    NOx    NH3    CO  \\\n0     AP001  2017-11-24  71.36  115.75  1.75  20.65  12.40  12.19  0.10   \n1     AP001  2017-11-25  81.40  124.50  1.44  20.50  12.08  10.72  0.12   \n2     AP001  2017-11-26  78.32  129.06  1.26  26.00  14.85  10.28  0.14   \n3     AP001  2017-11-27  88.76  135.32  6.60  30.85  21.77  12.91  0.11   \n4     AP001  2017-11-28  64.18  104.09  2.56  28.07  17.01  11.42  0.09   \n\n     SO2      O3  Benzene  Toluene  Xylene    AQI AQI_Bucket  \n0  10.76  109.26     0.17     5.92    0.10   96.4     Severe  \n1  15.24  127.09     0.20     6.50    0.06  184.0   Moderate  \n2  26.96  117.44     0.22     7.95    0.08  197.0   Moderate  \n3  33.59  111.81     0.29     7.63    0.12  198.0   Moderate  \n4  19.00  138.18     0.17     5.02    0.07  188.0   Moderate  ",
      "text/html": "<div>\n<style scoped>\n    .dataframe tbody tr th:only-of-type {\n        vertical-align: middle;\n    }\n\n    .dataframe tbody tr th {\n        vertical-align: top;\n    }\n\n    .dataframe thead th {\n        text-align: right;\n    }\n</style>\n<table border=\"1\" class=\"dataframe\">\n  <thead>\n    <tr style=\"text-align: right;\">\n      <th></th>\n      <th>StationId</th>\n      <th>Date</th>\n      <th>PM2.5</th>\n      <th>PM10</th>\n      <th>NO</th>\n      <th>NO2</th>\n      <th>NOx</th>\n      <th>NH3</th>\n      <th>CO</th>\n      <th>SO2</th>\n      <th>O3</th>\n      <th>Benzene</th>\n      <th>Toluene</th>\n      <th>Xylene</th>\n      <th>AQI</th>\n      <th>AQI_Bucket</th>\n    </tr>\n  </thead>\n  <tbody>\n    <tr>\n      <th>0</th>\n      <td>AP001</td>\n      <td>2017-11-24</td>\n      <td>71.36</td>\n      <td>115.75</td>\n      <td>1.75</td>\n      <td>20.65</td>\n      <td>12.40</td>\n      <td>12.19</td>\n      <td>0.10</td>\n      <td>10.76</td>\n      <td>109.26</td>\n      <td>0.17</td>\n      <td>5.92</td>\n      <td>0.10</td>\n      <td>96.4</td>\n      <td>Severe</td>\n    </tr>\n    <tr>\n      <th>1</th>\n      <td>AP001</td>\n      <td>2017-11-25</td>\n      <td>81.40</td>\n      <td>124.50</td>\n      <td>1.44</td>\n      <td>20.50</td>\n      <td>12.08</td>\n      <td>10.72</td>\n      <td>0.12</td>\n      <td>15.24</td>\n      <td>127.09</td>\n      <td>0.20</td>\n      <td>6.50</td>\n      <td>0.06</td>\n      <td>184.0</td>\n      <td>Moderate</td>\n    </tr>\n    <tr>\n      <th>2</th>\n      <td>AP001</td>\n      <td>2017-11-26</td>\n      <td>78.32</td>\n      <td>129.06</td>\n      <td>1.26</td>\n      <td>26.00</td>\n      <td>14.85</td>\n      <td>10.28</td>\n      <td>0.14</td>\n      <td>26.96</td>\n      <td>117.44</td>\n      <td>0.22</td>\n      <td>7.95</td>\n      <td>0.08</td>\n      <td>197.0</td>\n      <td>Moderate</td>\n    </tr>\n    <tr>\n      <th>3</th>\n      <td>AP001</td>\n      <td>2017-11-27</td>\n      <td>88.76</td>\n      <td>135.32</td>\n      <td>6.60</td>\n      <td>30.85</td>\n      <td>21.77</td>\n      <td>12.91</td>\n      <td>0.11</td>\n      <td>33.59</td>\n      <td>111.81</td>\n      <td>0.29</td>\n      <td>7.63</td>\n      <td>0.12</td>\n      <td>198.0</td>\n      <td>Moderate</td>\n    </tr>\n    <tr>\n      <th>4</th>\n      <td>AP001</td>\n      <td>2017-11-28</td>\n      <td>64.18</td>\n      <td>104.09</td>\n      <td>2.56</td>\n      <td>28.07</td>\n      <td>17.01</td>\n      <td>11.42</td>\n      <td>0.09</td>\n      <td>19.00</td>\n      <td>138.18</td>\n      <td>0.17</td>\n      <td>5.02</td>\n      <td>0.07</td>\n      <td>188.0</td>\n      <td>Moderate</td>\n    </tr>\n  </tbody>\n</table>\n</div>"
     },
     "execution_count": 86,
     "metadata": {},
     "output_type": "execute_result"
    }
   ],
   "source": [
    "# 可以发现india的第一列 'Unnamed: 0' 为无用列，使用drop()将其删去\n",
    "# 其中axis=1是按列删除 axis=0是按行删除。\n",
    "india = india.drop(india.columns[0], axis=1)\n",
    "india.head()"
   ],
   "metadata": {
    "collapsed": false
   }
  },
  {
   "cell_type": "code",
   "execution_count": 87,
   "outputs": [
    {
     "data": {
      "text/plain": "  StationId        Date  PM2.5    PM10    NO    NO2    NOx    NH3    CO  \\\n0     AP001  2017-11-24  71.36  115.75  1.75  20.65  12.40  12.19  0.10   \n1     AP001  2017-11-25  81.40  124.50  1.44  20.50  12.08  10.72  0.12   \n2     AP001  2017-11-26  78.32  129.06  1.26  26.00  14.85  10.28  0.14   \n3     AP001  2017-11-27  88.76  135.32  6.60  30.85  21.77  12.91  0.11   \n4     AP001  2017-11-28  64.18  104.09  2.56  28.07  17.01  11.42  0.09   \n\n     SO2      O3  Benzene  Toluene  Xylene    AQI AQI_Bucket   latitude  \\\n0  10.76  109.26     0.17     5.92    0.10   96.4     Severe  16.515083   \n1  15.24  127.09     0.20     6.50    0.06  184.0   Moderate  16.515083   \n2  26.96  117.44     0.22     7.95    0.08  197.0   Moderate  16.515083   \n3  33.59  111.81     0.29     7.63    0.12  198.0   Moderate  16.515083   \n4  19.00  138.18     0.17     5.02    0.07  188.0   Moderate  16.515083   \n\n   longitude  \n0  80.518167  \n1  80.518167  \n2  80.518167  \n3  80.518167  \n4  80.518167  ",
      "text/html": "<div>\n<style scoped>\n    .dataframe tbody tr th:only-of-type {\n        vertical-align: middle;\n    }\n\n    .dataframe tbody tr th {\n        vertical-align: top;\n    }\n\n    .dataframe thead th {\n        text-align: right;\n    }\n</style>\n<table border=\"1\" class=\"dataframe\">\n  <thead>\n    <tr style=\"text-align: right;\">\n      <th></th>\n      <th>StationId</th>\n      <th>Date</th>\n      <th>PM2.5</th>\n      <th>PM10</th>\n      <th>NO</th>\n      <th>NO2</th>\n      <th>NOx</th>\n      <th>NH3</th>\n      <th>CO</th>\n      <th>SO2</th>\n      <th>O3</th>\n      <th>Benzene</th>\n      <th>Toluene</th>\n      <th>Xylene</th>\n      <th>AQI</th>\n      <th>AQI_Bucket</th>\n      <th>latitude</th>\n      <th>longitude</th>\n    </tr>\n  </thead>\n  <tbody>\n    <tr>\n      <th>0</th>\n      <td>AP001</td>\n      <td>2017-11-24</td>\n      <td>71.36</td>\n      <td>115.75</td>\n      <td>1.75</td>\n      <td>20.65</td>\n      <td>12.40</td>\n      <td>12.19</td>\n      <td>0.10</td>\n      <td>10.76</td>\n      <td>109.26</td>\n      <td>0.17</td>\n      <td>5.92</td>\n      <td>0.10</td>\n      <td>96.4</td>\n      <td>Severe</td>\n      <td>16.515083</td>\n      <td>80.518167</td>\n    </tr>\n    <tr>\n      <th>1</th>\n      <td>AP001</td>\n      <td>2017-11-25</td>\n      <td>81.40</td>\n      <td>124.50</td>\n      <td>1.44</td>\n      <td>20.50</td>\n      <td>12.08</td>\n      <td>10.72</td>\n      <td>0.12</td>\n      <td>15.24</td>\n      <td>127.09</td>\n      <td>0.20</td>\n      <td>6.50</td>\n      <td>0.06</td>\n      <td>184.0</td>\n      <td>Moderate</td>\n      <td>16.515083</td>\n      <td>80.518167</td>\n    </tr>\n    <tr>\n      <th>2</th>\n      <td>AP001</td>\n      <td>2017-11-26</td>\n      <td>78.32</td>\n      <td>129.06</td>\n      <td>1.26</td>\n      <td>26.00</td>\n      <td>14.85</td>\n      <td>10.28</td>\n      <td>0.14</td>\n      <td>26.96</td>\n      <td>117.44</td>\n      <td>0.22</td>\n      <td>7.95</td>\n      <td>0.08</td>\n      <td>197.0</td>\n      <td>Moderate</td>\n      <td>16.515083</td>\n      <td>80.518167</td>\n    </tr>\n    <tr>\n      <th>3</th>\n      <td>AP001</td>\n      <td>2017-11-27</td>\n      <td>88.76</td>\n      <td>135.32</td>\n      <td>6.60</td>\n      <td>30.85</td>\n      <td>21.77</td>\n      <td>12.91</td>\n      <td>0.11</td>\n      <td>33.59</td>\n      <td>111.81</td>\n      <td>0.29</td>\n      <td>7.63</td>\n      <td>0.12</td>\n      <td>198.0</td>\n      <td>Moderate</td>\n      <td>16.515083</td>\n      <td>80.518167</td>\n    </tr>\n    <tr>\n      <th>4</th>\n      <td>AP001</td>\n      <td>2017-11-28</td>\n      <td>64.18</td>\n      <td>104.09</td>\n      <td>2.56</td>\n      <td>28.07</td>\n      <td>17.01</td>\n      <td>11.42</td>\n      <td>0.09</td>\n      <td>19.00</td>\n      <td>138.18</td>\n      <td>0.17</td>\n      <td>5.02</td>\n      <td>0.07</td>\n      <td>188.0</td>\n      <td>Moderate</td>\n      <td>16.515083</td>\n      <td>80.518167</td>\n    </tr>\n  </tbody>\n</table>\n</div>"
     },
     "execution_count": 87,
     "metadata": {},
     "output_type": "execute_result"
    }
   ],
   "source": [
    "# 合并india和geometry\n",
    "# 其中geometry部分只需要['StationId', 'latitude', 'longitude']这三列 因此单独取出\n",
    "# how='inner' 表示inner joint\n",
    "# on='StationId' 表示两个数据通过StationId来标识连接 此处与数据库sql的表达相近\n",
    "india_with_geo = pd.merge(india, geometry[['StationId', 'latitude', 'longitude']], how='inner', on='StationId')\n",
    "\n",
    "# 合并完成 查看合并后带有经纬度信息的india数据\n",
    "india_with_geo.head()"
   ],
   "metadata": {
    "collapsed": false
   }
  },
  {
   "cell_type": "code",
   "execution_count": 88,
   "outputs": [
    {
     "data": {
      "text/plain": "           StationId  PM2.5    PM10    NO    NO2    NOx    NH3    CO    SO2  \\\nDate                                                                          \n2017-11-24     AP001  71.36  115.75  1.75  20.65  12.40  12.19  0.10  10.76   \n2017-11-25     AP001  81.40  124.50  1.44  20.50  12.08  10.72  0.12  15.24   \n2017-11-26     AP001  78.32  129.06  1.26  26.00  14.85  10.28  0.14  26.96   \n2017-11-27     AP001  88.76  135.32  6.60  30.85  21.77  12.91  0.11  33.59   \n2017-11-28     AP001  64.18  104.09  2.56  28.07  17.01  11.42  0.09  19.00   \n\n                O3  Benzene  Toluene  Xylene    AQI AQI_Bucket   latitude  \\\nDate                                                                        \n2017-11-24  109.26     0.17     5.92    0.10   96.4     Severe  16.515083   \n2017-11-25  127.09     0.20     6.50    0.06  184.0   Moderate  16.515083   \n2017-11-26  117.44     0.22     7.95    0.08  197.0   Moderate  16.515083   \n2017-11-27  111.81     0.29     7.63    0.12  198.0   Moderate  16.515083   \n2017-11-28  138.18     0.17     5.02    0.07  188.0   Moderate  16.515083   \n\n            longitude  \nDate                   \n2017-11-24  80.518167  \n2017-11-25  80.518167  \n2017-11-26  80.518167  \n2017-11-27  80.518167  \n2017-11-28  80.518167  ",
      "text/html": "<div>\n<style scoped>\n    .dataframe tbody tr th:only-of-type {\n        vertical-align: middle;\n    }\n\n    .dataframe tbody tr th {\n        vertical-align: top;\n    }\n\n    .dataframe thead th {\n        text-align: right;\n    }\n</style>\n<table border=\"1\" class=\"dataframe\">\n  <thead>\n    <tr style=\"text-align: right;\">\n      <th></th>\n      <th>StationId</th>\n      <th>PM2.5</th>\n      <th>PM10</th>\n      <th>NO</th>\n      <th>NO2</th>\n      <th>NOx</th>\n      <th>NH3</th>\n      <th>CO</th>\n      <th>SO2</th>\n      <th>O3</th>\n      <th>Benzene</th>\n      <th>Toluene</th>\n      <th>Xylene</th>\n      <th>AQI</th>\n      <th>AQI_Bucket</th>\n      <th>latitude</th>\n      <th>longitude</th>\n    </tr>\n    <tr>\n      <th>Date</th>\n      <th></th>\n      <th></th>\n      <th></th>\n      <th></th>\n      <th></th>\n      <th></th>\n      <th></th>\n      <th></th>\n      <th></th>\n      <th></th>\n      <th></th>\n      <th></th>\n      <th></th>\n      <th></th>\n      <th></th>\n      <th></th>\n      <th></th>\n    </tr>\n  </thead>\n  <tbody>\n    <tr>\n      <th>2017-11-24</th>\n      <td>AP001</td>\n      <td>71.36</td>\n      <td>115.75</td>\n      <td>1.75</td>\n      <td>20.65</td>\n      <td>12.40</td>\n      <td>12.19</td>\n      <td>0.10</td>\n      <td>10.76</td>\n      <td>109.26</td>\n      <td>0.17</td>\n      <td>5.92</td>\n      <td>0.10</td>\n      <td>96.4</td>\n      <td>Severe</td>\n      <td>16.515083</td>\n      <td>80.518167</td>\n    </tr>\n    <tr>\n      <th>2017-11-25</th>\n      <td>AP001</td>\n      <td>81.40</td>\n      <td>124.50</td>\n      <td>1.44</td>\n      <td>20.50</td>\n      <td>12.08</td>\n      <td>10.72</td>\n      <td>0.12</td>\n      <td>15.24</td>\n      <td>127.09</td>\n      <td>0.20</td>\n      <td>6.50</td>\n      <td>0.06</td>\n      <td>184.0</td>\n      <td>Moderate</td>\n      <td>16.515083</td>\n      <td>80.518167</td>\n    </tr>\n    <tr>\n      <th>2017-11-26</th>\n      <td>AP001</td>\n      <td>78.32</td>\n      <td>129.06</td>\n      <td>1.26</td>\n      <td>26.00</td>\n      <td>14.85</td>\n      <td>10.28</td>\n      <td>0.14</td>\n      <td>26.96</td>\n      <td>117.44</td>\n      <td>0.22</td>\n      <td>7.95</td>\n      <td>0.08</td>\n      <td>197.0</td>\n      <td>Moderate</td>\n      <td>16.515083</td>\n      <td>80.518167</td>\n    </tr>\n    <tr>\n      <th>2017-11-27</th>\n      <td>AP001</td>\n      <td>88.76</td>\n      <td>135.32</td>\n      <td>6.60</td>\n      <td>30.85</td>\n      <td>21.77</td>\n      <td>12.91</td>\n      <td>0.11</td>\n      <td>33.59</td>\n      <td>111.81</td>\n      <td>0.29</td>\n      <td>7.63</td>\n      <td>0.12</td>\n      <td>198.0</td>\n      <td>Moderate</td>\n      <td>16.515083</td>\n      <td>80.518167</td>\n    </tr>\n    <tr>\n      <th>2017-11-28</th>\n      <td>AP001</td>\n      <td>64.18</td>\n      <td>104.09</td>\n      <td>2.56</td>\n      <td>28.07</td>\n      <td>17.01</td>\n      <td>11.42</td>\n      <td>0.09</td>\n      <td>19.00</td>\n      <td>138.18</td>\n      <td>0.17</td>\n      <td>5.02</td>\n      <td>0.07</td>\n      <td>188.0</td>\n      <td>Moderate</td>\n      <td>16.515083</td>\n      <td>80.518167</td>\n    </tr>\n  </tbody>\n</table>\n</div>"
     },
     "execution_count": 88,
     "metadata": {},
     "output_type": "execute_result"
    }
   ],
   "source": [
    "# 对于每年每个月的平均值计算，首先先把Date这一列的数据从 str 转成 pandas中用于日期操作的类型 Timestamp\n",
    "# <class 'pandas._libs.tslibs.timestamps.Timestamp'>\n",
    "# 此时可以通过 time.year time.month time.day 分别得到年月日的信息\n",
    "india_with_geo['Date'] = pd.to_datetime(india_with_geo['Date'])\n",
    "india_with_geo = india_with_geo.set_index('Date')\n",
    "india_with_geo.head()"
   ],
   "metadata": {
    "collapsed": false
   }
  },
  {
   "cell_type": "markdown",
   "source": [
    "### 2. 整理2015-2020每月的平均AQI"
   ],
   "metadata": {
    "collapsed": false
   }
  },
  {
   "cell_type": "code",
   "execution_count": 89,
   "outputs": [
    {
     "data": {
      "text/plain": "            AQI_Monthly_Mean\nDate                        \n2015-01-31        165.425140\n2015-02-28        183.094963\n2015-03-31        179.519656\n2015-04-30        209.934788\n2015-05-31        221.038700\n...                      ...\n2020-03-31        119.198214\n2020-04-30        100.152654\n2020-05-31        111.617593\n2020-06-30         94.148019\n2020-07-31         87.703208\n\n[67 rows x 1 columns]",
      "text/html": "<div>\n<style scoped>\n    .dataframe tbody tr th:only-of-type {\n        vertical-align: middle;\n    }\n\n    .dataframe tbody tr th {\n        vertical-align: top;\n    }\n\n    .dataframe thead th {\n        text-align: right;\n    }\n</style>\n<table border=\"1\" class=\"dataframe\">\n  <thead>\n    <tr style=\"text-align: right;\">\n      <th></th>\n      <th>AQI_Monthly_Mean</th>\n    </tr>\n    <tr>\n      <th>Date</th>\n      <th></th>\n    </tr>\n  </thead>\n  <tbody>\n    <tr>\n      <th>2015-01-31</th>\n      <td>165.425140</td>\n    </tr>\n    <tr>\n      <th>2015-02-28</th>\n      <td>183.094963</td>\n    </tr>\n    <tr>\n      <th>2015-03-31</th>\n      <td>179.519656</td>\n    </tr>\n    <tr>\n      <th>2015-04-30</th>\n      <td>209.934788</td>\n    </tr>\n    <tr>\n      <th>2015-05-31</th>\n      <td>221.038700</td>\n    </tr>\n    <tr>\n      <th>...</th>\n      <td>...</td>\n    </tr>\n    <tr>\n      <th>2020-03-31</th>\n      <td>119.198214</td>\n    </tr>\n    <tr>\n      <th>2020-04-30</th>\n      <td>100.152654</td>\n    </tr>\n    <tr>\n      <th>2020-05-31</th>\n      <td>111.617593</td>\n    </tr>\n    <tr>\n      <th>2020-06-30</th>\n      <td>94.148019</td>\n    </tr>\n    <tr>\n      <th>2020-07-31</th>\n      <td>87.703208</td>\n    </tr>\n  </tbody>\n</table>\n<p>67 rows × 1 columns</p>\n</div>"
     },
     "execution_count": 89,
     "metadata": {},
     "output_type": "execute_result"
    }
   ],
   "source": [
    "def if_contains_year(df, year):\n",
    "    for i in df.reset_index()['Date']:\n",
    "        if i.year == year:\n",
    "            return True\n",
    "\n",
    "    return False\n",
    "\n",
    "\n",
    "# 整理出每个站点每年每个月的平均值\n",
    "# 按地点分类，得到每个地点在19年有数据的月份的平均值\n",
    "india_with_geo_month_mean_total = None\n",
    "# india_with_geo['StationId'].unique将得到StationId出现的所有唯一值 即所有的站点\n",
    "for station in india_with_geo['StationId'].unique():\n",
    "\n",
    "    # 对每一个站点进行一次计算\n",
    "    india_with_geo_station = india_with_geo[india_with_geo['StationId'] == station]\n",
    "    # 以19年为例，判断station是否有2019年的数据\n",
    "    if if_contains_year(india_with_geo_station, 2019):\n",
    "\n",
    "        # 选取属于2019年的数据\n",
    "        india_with_geo_year = india_with_geo_station.loc['2019']\n",
    "        # 按照月份进行groupby 计算AQI的平均值\n",
    "        india_with_geo_month_mean = india_with_geo_year.reset_index().groupby(pd.Grouper(key='Date', axis=0, freq='M'))[\n",
    "            'AQI'].mean()\n",
    "        # 将计算得到的平均值 和 StationId整合作为一个 DataFrame\n",
    "        india_with_geo_month_mean_df = pd.DataFrame({'StationId': [station for i in india_with_geo_month_mean],\n",
    "                                                     'AQI_Monthly_Mean': india_with_geo_month_mean})\n",
    "        # 合并到存放之前其他站点月均值的india_with_geo_month_mean_total中\n",
    "        india_with_geo_month_mean_total = pd.concat([india_with_geo_month_mean_total, india_with_geo_month_mean_df])\n",
    "\n",
    "# 最终把每个station的月平均整合，得到所有的2019年station每个月的平均值\n",
    "india_with_geo_month_mean_total"
   ],
   "metadata": {
    "collapsed": false
   }
  }
 ],
 "metadata": {
  "kernelspec": {
   "display_name": "Python 3",
   "language": "python",
   "name": "python3"
  },
  "language_info": {
   "codemirror_mode": {
    "name": "ipython",
    "version": 2
   },
   "file_extension": ".py",
   "mimetype": "text/x-python",
   "name": "python",
   "nbconvert_exporter": "python",
   "pygments_lexer": "ipython2",
   "version": "2.7.6"
  }
 },
 "nbformat": 4,
 "nbformat_minor": 0
}
